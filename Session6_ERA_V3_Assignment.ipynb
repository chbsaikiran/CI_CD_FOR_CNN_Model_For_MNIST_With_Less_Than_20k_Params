{
  "cells": [
    {
      "cell_type": "code",
      "execution_count": 1,
      "metadata": {
        "id": "0m2JWFliFfKT"
      },
      "outputs": [],
      "source": [
        "from __future__ import print_function\n",
        "import torch\n",
        "import torch.nn as nn\n",
        "import torch.nn.functional as F\n",
        "import torch.optim as optim\n",
        "from torchvision import datasets, transforms"
      ]
    },
    {
      "cell_type": "code",
      "execution_count": 2,
      "metadata": {
        "id": "h_Cx9q2QFgM7"
      },
      "outputs": [],
      "source": [
        "class Net(nn.Module):\n",
        "    def __init__(self):\n",
        "        super(Net, self).__init__()\n",
        "        self.conv1 = nn.Conv2d(1, 16, 3, padding=1) #input -? OUtput? RF\n",
        "        self.bn1 = nn.BatchNorm2d(16)\n",
        "        self.do1 = nn.Dropout2d(0.1)\n",
        "        self.conv2 = nn.Conv2d(16, 32, 3, padding=1)\n",
        "        self.bn2 = nn.BatchNorm2d(32)\n",
        "        self.do2 = nn.Dropout2d(0.1)\n",
        "        self.pool1 = nn.MaxPool2d(2, 2)\n",
        "        self.transition1 = nn.Conv2d(32, 16, kernel_size=1)\n",
        "        self.conv3 = nn.Conv2d(16, 16, 3, padding=1)\n",
        "        self.bn3 = nn.BatchNorm2d(16)\n",
        "        self.do3 = nn.Dropout2d(0.1)\n",
        "        self.conv4 = nn.Conv2d(16, 16, 3, padding=1)\n",
        "        self.bn4 = nn.BatchNorm2d(16)\n",
        "        self.do4 = nn.Dropout2d(0.1)\n",
        "        self.pool2 = nn.MaxPool2d(2, 2)\n",
        "        self.transition2 = nn.Conv2d(16, 8, kernel_size=1)\n",
        "        self.conv5 = nn.Conv2d(8, 8, 3, padding=1)\n",
        "        self.bn5 = nn.BatchNorm2d(8)\n",
        "        self.do5 = nn.Dropout2d(0.1)\n",
        "        self.conv6 = nn.Conv2d(8, 8, 3, padding=1)\n",
        "        self.bn6 = nn.BatchNorm2d(8)\n",
        "        self.do6 = nn.Dropout2d(0.1)\n",
        "        self.fc1 = nn.Linear(8 * 7 * 7, 21)  # Assuming MNIST input size of 28x28\n",
        "        self.fc2 = nn.Linear(21, 10)\n",
        "\n",
        "    def forward(self, x):\n",
        "        x = self.pool1(self.do2(self.bn2(F.relu(self.conv2(self.bn1(F.relu(self.conv1(x))))))))\n",
        "        x = self.transition1(x)\n",
        "        x = self.pool2(self.do4(self.bn4(F.relu(self.conv4(self.bn3(F.relu(self.conv3(x))))))))\n",
        "        x = self.transition2(x)\n",
        "        x = self.do6(self.bn6(F.relu(self.conv6(self.bn5(F.relu(self.conv5(x)))))))\n",
        "        x = x.view(x.size(0), -1)  # Flatten\n",
        "        x = F.relu(self.fc1(x))\n",
        "        x = self.fc2(x)\n",
        "        return x"
      ]
    },
    {
      "cell_type": "code",
      "execution_count": 3,
      "metadata": {
        "colab": {
          "base_uri": "https://localhost:8080/"
        },
        "id": "xdydjYTZFyi3",
        "outputId": "6e1cb20d-07c5-43ea-c5db-b353d9dde221"
      },
      "outputs": [
        {
          "name": "stdout",
          "output_type": "stream",
          "text": [
            "Requirement already satisfied: torchsummary in /usr/local/lib/python3.10/dist-packages (1.5.1)\n",
            "----------------------------------------------------------------\n",
            "        Layer (type)               Output Shape         Param #\n",
            "================================================================\n",
            "            Conv2d-1           [-1, 16, 28, 28]             160\n",
            "       BatchNorm2d-2           [-1, 16, 28, 28]              32\n",
            "            Conv2d-3           [-1, 32, 28, 28]           4,640\n",
            "       BatchNorm2d-4           [-1, 32, 28, 28]              64\n",
            "         Dropout2d-5           [-1, 32, 28, 28]               0\n",
            "         MaxPool2d-6           [-1, 32, 14, 14]               0\n",
            "            Conv2d-7           [-1, 16, 14, 14]             528\n",
            "            Conv2d-8           [-1, 16, 14, 14]           2,320\n",
            "       BatchNorm2d-9           [-1, 16, 14, 14]              32\n",
            "           Conv2d-10           [-1, 16, 14, 14]           2,320\n",
            "      BatchNorm2d-11           [-1, 16, 14, 14]              32\n",
            "        Dropout2d-12           [-1, 16, 14, 14]               0\n",
            "        MaxPool2d-13             [-1, 16, 7, 7]               0\n",
            "           Conv2d-14              [-1, 8, 7, 7]             136\n",
            "           Conv2d-15              [-1, 8, 7, 7]             584\n",
            "      BatchNorm2d-16              [-1, 8, 7, 7]              16\n",
            "           Conv2d-17              [-1, 8, 7, 7]             584\n",
            "      BatchNorm2d-18              [-1, 8, 7, 7]              16\n",
            "        Dropout2d-19              [-1, 8, 7, 7]               0\n",
            "           Linear-20                   [-1, 21]           8,253\n",
            "           Linear-21                   [-1, 10]             220\n",
            "================================================================\n",
            "Total params: 19,937\n",
            "Trainable params: 19,937\n",
            "Non-trainable params: 0\n",
            "----------------------------------------------------------------\n",
            "Input size (MB): 0.00\n",
            "Forward/backward pass size (MB): 0.98\n",
            "Params size (MB): 0.08\n",
            "Estimated Total Size (MB): 1.06\n",
            "----------------------------------------------------------------\n"
          ]
        }
      ],
      "source": [
        "!pip install torchsummary\n",
        "from torchsummary import summary\n",
        "use_cuda = torch.cuda.is_available()\n",
        "device = torch.device(\"cuda\" if use_cuda else \"cpu\")\n",
        "model = Net().to(device)\n",
        "summary(model, input_size=(1, 28, 28))"
      ]
    },
    {
      "cell_type": "code",
      "execution_count": 4,
      "metadata": {
        "colab": {
          "base_uri": "https://localhost:8080/"
        },
        "id": "DqTWLaM5GHgH",
        "outputId": "19f17eab-e869-4766-aadd-0505b5b452ea"
      },
      "outputs": [
        {
          "name": "stdout",
          "output_type": "stream",
          "text": [
            "Downloading http://yann.lecun.com/exdb/mnist/train-images-idx3-ubyte.gz\n",
            "Failed to download (trying next):\n",
            "HTTP Error 403: Forbidden\n",
            "\n",
            "Downloading https://ossci-datasets.s3.amazonaws.com/mnist/train-images-idx3-ubyte.gz\n",
            "Downloading https://ossci-datasets.s3.amazonaws.com/mnist/train-images-idx3-ubyte.gz to ../data/MNIST/raw/train-images-idx3-ubyte.gz\n"
          ]
        },
        {
          "name": "stderr",
          "output_type": "stream",
          "text": [
            "100%|██████████| 9.91M/9.91M [00:02<00:00, 4.15MB/s]\n"
          ]
        },
        {
          "name": "stdout",
          "output_type": "stream",
          "text": [
            "Extracting ../data/MNIST/raw/train-images-idx3-ubyte.gz to ../data/MNIST/raw\n",
            "\n",
            "Downloading http://yann.lecun.com/exdb/mnist/train-labels-idx1-ubyte.gz\n",
            "Failed to download (trying next):\n",
            "HTTP Error 403: Forbidden\n",
            "\n",
            "Downloading https://ossci-datasets.s3.amazonaws.com/mnist/train-labels-idx1-ubyte.gz\n",
            "Downloading https://ossci-datasets.s3.amazonaws.com/mnist/train-labels-idx1-ubyte.gz to ../data/MNIST/raw/train-labels-idx1-ubyte.gz\n"
          ]
        },
        {
          "name": "stderr",
          "output_type": "stream",
          "text": [
            "100%|██████████| 28.9k/28.9k [00:00<00:00, 57.3kB/s]\n"
          ]
        },
        {
          "name": "stdout",
          "output_type": "stream",
          "text": [
            "Extracting ../data/MNIST/raw/train-labels-idx1-ubyte.gz to ../data/MNIST/raw\n",
            "\n",
            "Downloading http://yann.lecun.com/exdb/mnist/t10k-images-idx3-ubyte.gz\n",
            "Failed to download (trying next):\n",
            "HTTP Error 403: Forbidden\n",
            "\n",
            "Downloading https://ossci-datasets.s3.amazonaws.com/mnist/t10k-images-idx3-ubyte.gz\n",
            "Downloading https://ossci-datasets.s3.amazonaws.com/mnist/t10k-images-idx3-ubyte.gz to ../data/MNIST/raw/t10k-images-idx3-ubyte.gz\n"
          ]
        },
        {
          "name": "stderr",
          "output_type": "stream",
          "text": [
            "100%|██████████| 1.65M/1.65M [00:06<00:00, 245kB/s]\n"
          ]
        },
        {
          "name": "stdout",
          "output_type": "stream",
          "text": [
            "Extracting ../data/MNIST/raw/t10k-images-idx3-ubyte.gz to ../data/MNIST/raw\n",
            "\n",
            "Downloading http://yann.lecun.com/exdb/mnist/t10k-labels-idx1-ubyte.gz\n",
            "Failed to download (trying next):\n",
            "HTTP Error 403: Forbidden\n",
            "\n",
            "Downloading https://ossci-datasets.s3.amazonaws.com/mnist/t10k-labels-idx1-ubyte.gz\n",
            "Downloading https://ossci-datasets.s3.amazonaws.com/mnist/t10k-labels-idx1-ubyte.gz to ../data/MNIST/raw/t10k-labels-idx1-ubyte.gz\n"
          ]
        },
        {
          "name": "stderr",
          "output_type": "stream",
          "text": [
            "100%|██████████| 4.54k/4.54k [00:00<00:00, 3.05MB/s]"
          ]
        },
        {
          "name": "stdout",
          "output_type": "stream",
          "text": [
            "Extracting ../data/MNIST/raw/t10k-labels-idx1-ubyte.gz to ../data/MNIST/raw\n",
            "\n"
          ]
        },
        {
          "name": "stderr",
          "output_type": "stream",
          "text": [
            "\n"
          ]
        }
      ],
      "source": [
        "\n",
        "\n",
        "torch.manual_seed(1)\n",
        "batch_size = 128\n",
        "\n",
        "kwargs = {'num_workers': 1, 'pin_memory': True} if use_cuda else {}\n",
        "train_loader = torch.utils.data.DataLoader(\n",
        "    datasets.MNIST('../data', train=True, download=True,\n",
        "                    transform=transforms.Compose([\n",
        "                        transforms.ToTensor(),\n",
        "                        transforms.Normalize((0.1307,), (0.3081,))\n",
        "                    ])),\n",
        "    batch_size=batch_size, shuffle=True, **kwargs)\n",
        "test_loader = torch.utils.data.DataLoader(\n",
        "    datasets.MNIST('../data', train=False, transform=transforms.Compose([\n",
        "                        transforms.ToTensor(),\n",
        "                        transforms.Normalize((0.1307,), (0.3081,))\n",
        "                    ])),\n",
        "    batch_size=batch_size, shuffle=True, **kwargs)\n"
      ]
    },
    {
      "cell_type": "code",
      "execution_count": 5,
      "metadata": {
        "id": "8fDefDhaFlwH"
      },
      "outputs": [],
      "source": [
        "from tqdm import tqdm\n",
        "def train(model, device, train_loader, optimizer, epoch):\n",
        "    model.train()\n",
        "    pbar = tqdm(train_loader)\n",
        "    for batch_idx, (data, target) in enumerate(pbar):\n",
        "        data, target = data.to(device), target.to(device)\n",
        "        optimizer.zero_grad()\n",
        "        output = model(data)\n",
        "        loss = F.cross_entropy(output, target)\n",
        "        loss.backward()\n",
        "        optimizer.step()\n",
        "        pbar.set_description(desc= f'loss={loss.item()} batch_id={batch_idx}')\n",
        "\n",
        "\n",
        "def test(model, device, test_loader):\n",
        "    model.eval()\n",
        "    test_loss = 0\n",
        "    correct = 0\n",
        "    with torch.no_grad():\n",
        "        for data, target in test_loader:\n",
        "            data, target = data.to(device), target.to(device)\n",
        "            output = model(data)\n",
        "            test_loss += F.cross_entropy(output, target, reduction='sum').item()  # sum up batch loss\n",
        "            pred = output.argmax(dim=1, keepdim=True)  # get the index of the max log-probability\n",
        "            correct += pred.eq(target.view_as(pred)).sum().item()\n",
        "\n",
        "    test_loss /= len(test_loader.dataset)\n",
        "    \n",
        "    if((100*(float(correct) / float(len(test_loader.dataset)))) > 99.4):\n",
        "      torch.save(model.state_dict(), \"models\\model.pth\")\n",
        "\n",
        "    print('\\nTest set: Average loss: {:.4f}, Accuracy: {}/{} ({:.0f}%)\\n'.format(\n",
        "        test_loss, correct, len(test_loader.dataset),\n",
        "        100. * correct / len(test_loader.dataset)))\n",
        "    return test_loss"
      ]
    },
    {
      "cell_type": "code",
      "execution_count": 8,
      "metadata": {
        "colab": {
          "base_uri": "https://localhost:8080/"
        },
        "id": "MMWbLWO6FuHb",
        "outputId": "fc64534f-0f4b-484c-842e-10e81b199456"
      },
      "outputs": [
        {
          "name": "stdout",
          "output_type": "stream",
          "text": [
            "## Epoch 1:\n"
          ]
        },
        {
          "name": "stderr",
          "output_type": "stream",
          "text": [
            "loss=0.017595084384083748 batch_id=468: 100%|██████████| 469/469 [00:19<00:00, 23.63it/s]\n"
          ]
        },
        {
          "name": "stdout",
          "output_type": "stream",
          "text": [
            "\n",
            "Test set: Average loss: 0.0539, Accuracy: 9825/10000 (98%)\n",
            "\n",
            "Learning Rate = 0.01\n",
            "\n",
            "## Epoch 2:\n"
          ]
        },
        {
          "name": "stderr",
          "output_type": "stream",
          "text": [
            "loss=0.11072218418121338 batch_id=468: 100%|██████████| 469/469 [00:19<00:00, 24.29it/s]\n"
          ]
        },
        {
          "name": "stdout",
          "output_type": "stream",
          "text": [
            "\n",
            "Test set: Average loss: 0.0509, Accuracy: 9828/10000 (98%)\n",
            "\n",
            "Learning Rate = 0.01\n",
            "\n",
            "## Epoch 3:\n"
          ]
        },
        {
          "name": "stderr",
          "output_type": "stream",
          "text": [
            "loss=0.021019043400883675 batch_id=468: 100%|██████████| 469/469 [00:19<00:00, 23.77it/s]\n"
          ]
        },
        {
          "name": "stdout",
          "output_type": "stream",
          "text": [
            "\n",
            "Test set: Average loss: 0.0317, Accuracy: 9887/10000 (99%)\n",
            "\n",
            "Learning Rate = 0.01\n",
            "\n",
            "## Epoch 4:\n"
          ]
        },
        {
          "name": "stderr",
          "output_type": "stream",
          "text": [
            "loss=0.017021944746375084 batch_id=468: 100%|██████████| 469/469 [00:19<00:00, 23.49it/s]\n"
          ]
        },
        {
          "name": "stdout",
          "output_type": "stream",
          "text": [
            "\n",
            "Test set: Average loss: 0.0290, Accuracy: 9906/10000 (99%)\n",
            "\n",
            "Learning Rate = 0.01\n",
            "\n",
            "## Epoch 5:\n"
          ]
        },
        {
          "name": "stderr",
          "output_type": "stream",
          "text": [
            "loss=0.034775540232658386 batch_id=468: 100%|██████████| 469/469 [00:20<00:00, 23.40it/s]\n"
          ]
        },
        {
          "name": "stdout",
          "output_type": "stream",
          "text": [
            "\n",
            "Test set: Average loss: 0.0264, Accuracy: 9906/10000 (99%)\n",
            "\n",
            "Learning Rate = 0.01\n",
            "\n",
            "## Epoch 6:\n"
          ]
        },
        {
          "name": "stderr",
          "output_type": "stream",
          "text": [
            "loss=0.023437118157744408 batch_id=468: 100%|██████████| 469/469 [00:19<00:00, 24.06it/s]\n"
          ]
        },
        {
          "name": "stdout",
          "output_type": "stream",
          "text": [
            "\n",
            "Test set: Average loss: 0.0249, Accuracy: 9913/10000 (99%)\n",
            "\n",
            "Learning Rate = 0.01\n",
            "\n",
            "## Epoch 7:\n"
          ]
        },
        {
          "name": "stderr",
          "output_type": "stream",
          "text": [
            "loss=0.03141943737864494 batch_id=468: 100%|██████████| 469/469 [00:19<00:00, 24.66it/s]\n"
          ]
        },
        {
          "name": "stdout",
          "output_type": "stream",
          "text": [
            "\n",
            "Test set: Average loss: 0.0240, Accuracy: 9921/10000 (99%)\n",
            "\n",
            "Learning Rate = 0.01\n",
            "\n",
            "## Epoch 8:\n"
          ]
        },
        {
          "name": "stderr",
          "output_type": "stream",
          "text": [
            "loss=0.014088020659983158 batch_id=468: 100%|██████████| 469/469 [00:19<00:00, 23.63it/s]\n"
          ]
        },
        {
          "name": "stdout",
          "output_type": "stream",
          "text": [
            "\n",
            "Test set: Average loss: 0.0246, Accuracy: 9922/10000 (99%)\n",
            "\n",
            "Learning Rate = 0.01\n",
            "\n",
            "## Epoch 9:\n"
          ]
        },
        {
          "name": "stderr",
          "output_type": "stream",
          "text": [
            "loss=0.015576012432575226 batch_id=468: 100%|██████████| 469/469 [00:19<00:00, 23.91it/s]\n"
          ]
        },
        {
          "name": "stdout",
          "output_type": "stream",
          "text": [
            "\n",
            "Test set: Average loss: 0.0246, Accuracy: 9924/10000 (99%)\n",
            "\n",
            "Learning Rate = 0.001\n",
            "\n",
            "## Epoch 10:\n"
          ]
        },
        {
          "name": "stderr",
          "output_type": "stream",
          "text": [
            "loss=0.002952931448817253 batch_id=468: 100%|██████████| 469/469 [00:18<00:00, 25.10it/s]\n"
          ]
        },
        {
          "name": "stdout",
          "output_type": "stream",
          "text": [
            "\n",
            "Test set: Average loss: 0.0192, Accuracy: 9935/10000 (99%)\n",
            "\n",
            "Learning Rate = 0.001\n",
            "\n",
            "## Epoch 11:\n"
          ]
        },
        {
          "name": "stderr",
          "output_type": "stream",
          "text": [
            "loss=0.006960914935916662 batch_id=468: 100%|██████████| 469/469 [00:19<00:00, 24.01it/s]\n"
          ]
        },
        {
          "name": "stdout",
          "output_type": "stream",
          "text": [
            "\n",
            "Test set: Average loss: 0.0188, Accuracy: 9936/10000 (99%)\n",
            "\n",
            "Learning Rate = 0.001\n",
            "\n",
            "## Epoch 12:\n"
          ]
        },
        {
          "name": "stderr",
          "output_type": "stream",
          "text": [
            "loss=0.008423689752817154 batch_id=468: 100%|██████████| 469/469 [00:19<00:00, 23.81it/s]\n"
          ]
        },
        {
          "name": "stdout",
          "output_type": "stream",
          "text": [
            "\n",
            "Test set: Average loss: 0.0186, Accuracy: 9933/10000 (99%)\n",
            "\n",
            "Learning Rate = 0.001\n",
            "\n",
            "## Epoch 13:\n"
          ]
        },
        {
          "name": "stderr",
          "output_type": "stream",
          "text": [
            "loss=0.011705243028700352 batch_id=468: 100%|██████████| 469/469 [00:18<00:00, 24.90it/s]\n"
          ]
        },
        {
          "name": "stdout",
          "output_type": "stream",
          "text": [
            "\n",
            "Test set: Average loss: 0.0187, Accuracy: 9938/10000 (99%)\n",
            "\n",
            "Learning Rate = 0.001\n",
            "\n",
            "## Epoch 14:\n"
          ]
        },
        {
          "name": "stderr",
          "output_type": "stream",
          "text": [
            "loss=0.041759613901376724 batch_id=468: 100%|██████████| 469/469 [00:19<00:00, 24.43it/s]\n"
          ]
        },
        {
          "name": "stdout",
          "output_type": "stream",
          "text": [
            "\n",
            "Test set: Average loss: 0.0181, Accuracy: 9939/10000 (99%)\n",
            "\n",
            "Learning Rate = 0.001\n",
            "\n",
            "## Epoch 15:\n"
          ]
        },
        {
          "name": "stderr",
          "output_type": "stream",
          "text": [
            "loss=0.01909550651907921 batch_id=468: 100%|██████████| 469/469 [00:19<00:00, 23.72it/s]\n"
          ]
        },
        {
          "name": "stdout",
          "output_type": "stream",
          "text": [
            "\n",
            "Test set: Average loss: 0.0183, Accuracy: 9939/10000 (99%)\n",
            "\n",
            "Learning Rate = 0.001\n",
            "\n",
            "## Epoch 16:\n"
          ]
        },
        {
          "name": "stderr",
          "output_type": "stream",
          "text": [
            "loss=0.026368873193860054 batch_id=468: 100%|██████████| 469/469 [00:20<00:00, 23.29it/s]\n"
          ]
        },
        {
          "name": "stdout",
          "output_type": "stream",
          "text": [
            "\n",
            "Test set: Average loss: 0.0182, Accuracy: 9940/10000 (99%)\n",
            "\n",
            "Learning Rate = 0.0001\n",
            "\n",
            "## Epoch 17:\n"
          ]
        },
        {
          "name": "stderr",
          "output_type": "stream",
          "text": [
            "loss=0.008405785076320171 batch_id=468: 100%|██████████| 469/469 [00:19<00:00, 24.48it/s]\n"
          ]
        },
        {
          "name": "stdout",
          "output_type": "stream",
          "text": [
            "\n",
            "Test set: Average loss: 0.0182, Accuracy: 9942/10000 (99%)\n",
            "\n",
            "Learning Rate = 0.0001\n",
            "\n",
            "## Epoch 18:\n"
          ]
        },
        {
          "name": "stderr",
          "output_type": "stream",
          "text": [
            "loss=0.00746827432885766 batch_id=468: 100%|██████████| 469/469 [00:19<00:00, 23.94it/s]\n"
          ]
        },
        {
          "name": "stdout",
          "output_type": "stream",
          "text": [
            "\n",
            "Test set: Average loss: 0.0183, Accuracy: 9941/10000 (99%)\n",
            "\n",
            "Learning Rate = 0.0001\n",
            "\n",
            "## Epoch 19:\n"
          ]
        },
        {
          "name": "stderr",
          "output_type": "stream",
          "text": [
            "loss=0.06835322827100754 batch_id=468: 100%|██████████| 469/469 [00:20<00:00, 23.18it/s]\n"
          ]
        },
        {
          "name": "stdout",
          "output_type": "stream",
          "text": [
            "\n",
            "Test set: Average loss: 0.0183, Accuracy: 9941/10000 (99%)\n",
            "\n",
            "Learning Rate = 0.0001\n",
            "\n"
          ]
        }
      ],
      "source": [
        "\n",
        "model = Net().to(device)\n",
        "optimizer = optim.SGD(model.parameters(), lr=0.01, momentum=0.9)\n",
        "scheduler = optim.lr_scheduler.ReduceLROnPlateau(optimizer, mode='min', factor=0.1, patience=1,cooldown=5)\n",
        "\n",
        "for epoch in range(1, 20):\n",
        "    print(\"## Epoch \" + str(epoch) + \":\")\n",
        "    train(model, device, train_loader, optimizer, epoch)\n",
        "    test_loss = test(model, device, test_loader)\n",
        "    scheduler.step(test_loss)\n",
        "    print(f\"Learning Rate = {optimizer.param_groups[0]['lr']}\\n\")"
      ]
    },
    {
      "cell_type": "code",
      "execution_count": null,
      "metadata": {
        "id": "So5uk4EkHW6R"
      },
      "outputs": [],
      "source": []
    }
  ],
  "metadata": {
    "accelerator": "GPU",
    "colab": {
      "provenance": []
    },
    "kernelspec": {
      "display_name": "Python 3",
      "name": "python3"
    }
  },
  "nbformat": 4,
  "nbformat_minor": 0
}
